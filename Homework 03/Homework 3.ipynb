{
 "cells": [
  {
   "cell_type": "code",
   "execution_count": 71,
   "metadata": {},
   "outputs": [],
   "source": [
    "import os\n",
    "import cv2\n",
    "import numpy as np\n",
    "from skimage.feature import multiscale_basic_features\n",
    "from sklearn.svm import SVC\n",
    "import matplotlib.pyplot as plt\n",
    "from sklearn.multiclass import OneVsRestClassifier\n",
    "import sklearn.base as sb\n",
    "from sklearn.metrics import classification_report"
   ]
  },
  {
   "cell_type": "code",
   "execution_count": 72,
   "metadata": {},
   "outputs": [],
   "source": [
    "IMG_HEIGHT = 224\n",
    "IMG_WIDTH = 224\n",
    "F_NUMBER = 500\n",
    "\n",
    "\n",
    "def ReadData(img_folder, class_names, img_width, img_height, Feature_Ex=False):\n",
    "    count = 0\n",
    "    dict_classes = {k: v for v, k in enumerate(np.unique(os.listdir(img_folder)))}\n",
    "    val_classes =  [dict_classes[class_names[i]] for i in range(len(class_names))]\n",
    "    x = np.array([])\n",
    "    y = np.array([])\n",
    "\n",
    "    for i, dir_i in enumerate(class_names):\n",
    "        for file in os.listdir(os.path.join(img_folder,dir_i)):\n",
    "            image_path = os.path.join(img_folder, dir_i, file)\n",
    "            image = cv2.cvtColor(cv2.imread(image_path), cv2.COLOR_BGR2HSV_FULL)\n",
    "            image =  cv2.resize(image, (IMG_WIDTH, IMG_HEIGHT))\n",
    "            if Feature_Ex is True:\n",
    "                feature = multiscale_basic_features(image=image,texture=False,edges=False)[:,:,:,2]\n",
    "                x = np.append(x,feature)\n",
    "            else:\n",
    "                x = np.append(x,image)\n",
    "            y = np.append(y, val_classes[i])\n",
    "            count += 1\n",
    "    return x, y, count"
   ]
  },
  {
   "cell_type": "code",
   "execution_count": 73,
   "metadata": {},
   "outputs": [],
   "source": [
    "def trainClassifier(x_train, y_train):\n",
    "    return OneVsRestClassifier(SVC(probability=True)).fit(x_train, y_train)   "
   ]
  },
  {
   "cell_type": "code",
   "execution_count": 74,
   "metadata": {},
   "outputs": [
    {
     "name": "stderr",
     "output_type": "stream",
     "text": [
      "c:\\Users\\silae\\anaconda3\\envs\\patreg\\lib\\site-packages\\skimage\\feature\\_basic_features.py:22: FutureWarning: Automatic detection of the color channel was deprecated in v0.19, and `channel_axis=None` will be the new default in v0.21. Set `channel_axis=-1` explicitly to silence this warning.\n",
      "  gaussian_filtered = filters.gaussian(img, sigma, preserve_range=False)\n"
     ]
    }
   ],
   "source": [
    "img_folder_train = \"HWData/train/\"\n",
    "img_folder_test = \"HWData/test/\"\n",
    "class_names = os.listdir(img_folder_train)\n",
    "\n",
    "x_train, y_train, IMG_NUMBER = ReadData(img_folder_train,class_names,IMG_WIDTH,IMG_HEIGHT,Feature_Ex=True)\n",
    "x_test, y_test, temp = ReadData(img_folder_test,class_names,IMG_WIDTH,IMG_HEIGHT,Feature_Ex=True)\n",
    "\n",
    "x_train = x_train.reshape((IMG_NUMBER,IMG_HEIGHT*IMG_WIDTH*3))\n",
    "svm = trainClassifier(x_train, y_train)\n"
   ]
  },
  {
   "cell_type": "code",
   "execution_count": 75,
   "metadata": {},
   "outputs": [
    {
     "name": "stdout",
     "output_type": "stream",
     "text": [
      "              precision    recall  f1-score   support\n",
      "\n",
      "         0.0       0.51      0.72      0.59        46\n",
      "         1.0       0.75      0.75      0.75         4\n",
      "         2.0       0.68      1.00      0.81        13\n",
      "         3.0       0.00      0.00      0.00         4\n",
      "         4.0       0.00      0.00      0.00         4\n",
      "         5.0       0.00      0.00      0.00         4\n",
      "         6.0       0.00      0.00      0.00         4\n",
      "         7.0       0.00      0.00      0.00         4\n",
      "         8.0       0.00      0.00      0.00         2\n",
      "         9.0       0.54      0.64      0.58        11\n",
      "        10.0       0.53      1.00      0.70         8\n",
      "        11.0       0.00      0.00      0.00         3\n",
      "        12.0       0.00      0.00      0.00         8\n",
      "        13.0       1.00      0.12      0.22         8\n",
      "        14.0       0.33      0.25      0.29         4\n",
      "\n",
      "    accuracy                           0.52       127\n",
      "   macro avg       0.29      0.30      0.26       127\n",
      "weighted avg       0.43      0.52      0.44       127\n",
      "\n"
     ]
    },
    {
     "name": "stderr",
     "output_type": "stream",
     "text": [
      "c:\\Users\\silae\\anaconda3\\envs\\patreg\\lib\\site-packages\\sklearn\\metrics\\_classification.py:1344: UndefinedMetricWarning: Precision and F-score are ill-defined and being set to 0.0 in labels with no predicted samples. Use `zero_division` parameter to control this behavior.\n",
      "  _warn_prf(average, modifier, msg_start, len(result))\n",
      "c:\\Users\\silae\\anaconda3\\envs\\patreg\\lib\\site-packages\\sklearn\\metrics\\_classification.py:1344: UndefinedMetricWarning: Precision and F-score are ill-defined and being set to 0.0 in labels with no predicted samples. Use `zero_division` parameter to control this behavior.\n",
      "  _warn_prf(average, modifier, msg_start, len(result))\n",
      "c:\\Users\\silae\\anaconda3\\envs\\patreg\\lib\\site-packages\\sklearn\\metrics\\_classification.py:1344: UndefinedMetricWarning: Precision and F-score are ill-defined and being set to 0.0 in labels with no predicted samples. Use `zero_division` parameter to control this behavior.\n",
      "  _warn_prf(average, modifier, msg_start, len(result))\n"
     ]
    }
   ],
   "source": [
    "x_test = x_test.reshape((temp,IMG_HEIGHT*IMG_WIDTH*3))\n",
    "res = svm.predict(x_test)\n",
    "\n",
    "#print('\\n accuracy => '+str(sb.accuracy_score(y_test, res)) )\n",
    "#print('\\n')\n",
    "print(classification_report(y_test, res)) "
   ]
  }
 ],
 "metadata": {
  "kernelspec": {
   "display_name": "patreg",
   "language": "python",
   "name": "patreg"
  },
  "language_info": {
   "codemirror_mode": {
    "name": "ipython",
    "version": 3
   },
   "file_extension": ".py",
   "mimetype": "text/x-python",
   "name": "python",
   "nbconvert_exporter": "python",
   "pygments_lexer": "ipython3",
   "version": "3.10.9"
  },
  "orig_nbformat": 4
 },
 "nbformat": 4,
 "nbformat_minor": 2
}
